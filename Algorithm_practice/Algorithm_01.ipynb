{
  "nbformat": 4,
  "nbformat_minor": 0,
  "metadata": {
    "colab": {
      "name": "Algorithm_01.ipynb",
      "provenance": []
    },
    "kernelspec": {
      "name": "python3",
      "display_name": "Python 3"
    },
    "language_info": {
      "name": "python"
    }
  },
  "cells": [
    {
      "cell_type": "markdown",
      "source": [
        "# 순차 탐색 문제"
      ],
      "metadata": {
        "id": "2kce6_pAW5lA"
      }
    },
    {
      "cell_type": "code",
      "source": [
        "s = [0, 10, 7, 11, 5, 13, 8]\n",
        "n = 6\n",
        "x = 5"
      ],
      "metadata": {
        "id": "fc3jGvfiW9eK"
      },
      "execution_count": 1,
      "outputs": []
    },
    {
      "cell_type": "code",
      "source": [
        "def seqsearch(n, s, x):\n",
        "  location = 0\n",
        "  while (location <= n and s[location] != x) :\n",
        "    location += 1\n",
        "  if (location > n) :\n",
        "    location = 0\n",
        "  return location\n",
        "\n"
      ],
      "metadata": {
        "id": "6zUH9wPyXHI6"
      },
      "execution_count": 12,
      "outputs": []
    },
    {
      "cell_type": "code",
      "source": [
        "location = seqsearch(len(s)-1, s, x)\n",
        "print('location = ', location)"
      ],
      "metadata": {
        "colab": {
          "base_uri": "https://localhost:8080/"
        },
        "id": "1eyYri-4Xsdu",
        "outputId": "faa530fd-2371-49d5-b952-051ac7436133"
      },
      "execution_count": 13,
      "outputs": [
        {
          "output_type": "stream",
          "name": "stdout",
          "text": [
            "location =  4\n"
          ]
        }
      ]
    },
    {
      "cell_type": "code",
      "source": [
        "y = 4\n",
        "loca = seqsearch(len(s)-1,s,y)\n",
        "print('location = ', loca)"
      ],
      "metadata": {
        "colab": {
          "base_uri": "https://localhost:8080/"
        },
        "id": "Xe0Eslz4X4Q4",
        "outputId": "178001b2-4160-47ba-b935-c8896d2031cd"
      },
      "execution_count": 14,
      "outputs": [
        {
          "output_type": "stream",
          "name": "stdout",
          "text": [
            "location =  0\n"
          ]
        }
      ]
    },
    {
      "cell_type": "markdown",
      "source": [
        "# 리스트(배열) 원소의 합 구하기"
      ],
      "metadata": {
        "id": "DuJmgzpqYIau"
      }
    },
    {
      "cell_type": "code",
      "source": [
        "s = [-1, 10, 7, 11, 5, 13, 8]\n",
        "n = 6"
      ],
      "metadata": {
        "id": "u1C3QjwBYAPt"
      },
      "execution_count": 6,
      "outputs": []
    },
    {
      "cell_type": "code",
      "source": [
        "def sum(n, s):\n",
        "  result = 0\n",
        "  for i in range(0,n+1):\n",
        "    result = result + s[i]\n",
        "  return result\n"
      ],
      "metadata": {
        "id": "9uyrMX14YPtQ"
      },
      "execution_count": 10,
      "outputs": []
    },
    {
      "cell_type": "code",
      "source": [
        "sum = sum(len(s)-1, s)\n",
        "print('sum = ', sum)"
      ],
      "metadata": {
        "colab": {
          "base_uri": "https://localhost:8080/"
        },
        "id": "rSmN26n1YR_j",
        "outputId": "61f416ab-1b22-4ed0-a764-6f6ee60db82e"
      },
      "execution_count": 11,
      "outputs": [
        {
          "output_type": "stream",
          "name": "stdout",
          "text": [
            "sum =  53\n"
          ]
        }
      ]
    },
    {
      "cell_type": "markdown",
      "source": [
        "# 리스트의 정렬 문제(Sorting)"
      ],
      "metadata": {
        "id": "pUsB5Qv1Y4k4"
      }
    },
    {
      "cell_type": "code",
      "source": [
        "# n개의 수로 구성된 리스트 s를 오름차순으로 정렬하시오"
      ],
      "metadata": {
        "id": "i7TqdFBsYtGF"
      },
      "execution_count": 15,
      "outputs": []
    },
    {
      "cell_type": "code",
      "source": [
        "s = [-1, 10, 7, 11, 5, 13, 8]\n"
      ],
      "metadata": {
        "id": "GVg1Kn0MZNn0"
      },
      "execution_count": 20,
      "outputs": []
    },
    {
      "cell_type": "code",
      "source": [
        "def exchange(s):\n",
        "  n = len(s)\n",
        "  for i in range(n-1):\n",
        "    for j in range(i+1,n):\n",
        "      if s[i] > s[j]:\n",
        "        s[i], s[j] = s[j], s[i]"
      ],
      "metadata": {
        "id": "fPgouOhLZUxN"
      },
      "execution_count": 21,
      "outputs": []
    },
    {
      "cell_type": "code",
      "source": [
        "print('Before - ', s)\n",
        "exchange(s)\n",
        "print('After  - ', s)"
      ],
      "metadata": {
        "colab": {
          "base_uri": "https://localhost:8080/"
        },
        "id": "LvgMuy4gZq3U",
        "outputId": "35766c69-4fa9-4f3a-fccb-3856e113798b"
      },
      "execution_count": 22,
      "outputs": [
        {
          "output_type": "stream",
          "name": "stdout",
          "text": [
            "Before -  [-1, 10, 7, 11, 5, 13, 8]\n",
            "After  -  [-1, 5, 7, 8, 10, 11, 13]\n"
          ]
        }
      ]
    },
    {
      "cell_type": "markdown",
      "source": [
        "# 행렬의 곱셈 문제"
      ],
      "metadata": {
        "id": "y_eT1m-ja098"
      }
    },
    {
      "cell_type": "code",
      "source": [
        "# n * n 행렬의 곱을 구하시오\n",
        "# n = 2\n"
      ],
      "metadata": {
        "id": "V9yVAZI6Z5fw"
      },
      "execution_count": 23,
      "outputs": []
    },
    {
      "cell_type": "code",
      "source": [
        "def matrixmult(A, B):\n",
        "  n = len(A)\n",
        "  C = [[0] * n for _ in range(n)]\n",
        "  for i in range(n):\n",
        "    for j in range(n):\n",
        "      for k in range(n) :\n",
        "        C[i][j] += A[i][k] * B[k][j]\n",
        "  return C"
      ],
      "metadata": {
        "id": "kKYZPqUQa6l0"
      },
      "execution_count": 33,
      "outputs": []
    },
    {
      "cell_type": "code",
      "source": [
        "A = [[2,3], [4,1]]\n",
        "B = [[5,7], [6,8]]\n",
        "C = matrixmult(A, B)\n",
        "print('C = ', C)"
      ],
      "metadata": {
        "colab": {
          "base_uri": "https://localhost:8080/"
        },
        "id": "NVe5PfjMbZgN",
        "outputId": "88787942-4af7-4106-ee85-06179dcccda2"
      },
      "execution_count": 34,
      "outputs": [
        {
          "output_type": "stream",
          "name": "stdout",
          "text": [
            "C =  [[28, 38], [26, 36]]\n"
          ]
        }
      ]
    },
    {
      "cell_type": "markdown",
      "source": [
        "# 순차 탐색 vs 이분 검색\n",
        "### 입력리스트의 조건에 따라\n",
        "* 정렬되지 않은 리스트 : 순차 탐색\n",
        "* 정렬된 리스트 : 이분 검색\n"
      ],
      "metadata": {
        "id": "41BkCI7hdFHk"
      }
    },
    {
      "cell_type": "code",
      "source": [
        "# 이분 검색"
      ],
      "metadata": {
        "id": "xaz4pUOHcL1a"
      },
      "execution_count": 35,
      "outputs": []
    },
    {
      "cell_type": "code",
      "source": [
        "def binsearch(n,S,x) :\n",
        "  low = 0\n",
        "  high = n\n",
        "  location = 0\n",
        "  while (low <= high and location == 0):\n",
        "    mid = (low+high) // 2\n",
        "    if x == s[mid] :\n",
        "      location = mid\n",
        "    elif x < s[mid]:\n",
        "      high = mid - 1\n",
        "    else :\n",
        "      low = mid + 1\n",
        "  return location"
      ],
      "metadata": {
        "id": "kvUShyvbd42_"
      },
      "execution_count": 37,
      "outputs": []
    },
    {
      "cell_type": "code",
      "source": [
        "s = [-1, 5, 7, 8, 10, 11, 13]\n",
        "x = 2\n",
        "y = 7\n",
        "z = 10\n",
        "location = binsearch(len(s)-1, s, x)\n",
        "print('s = ', s)\n",
        "print('x = ', x)\n",
        "print('location = ', location)\n",
        "print('*'* 50)\n",
        "location = binsearch(len(s)-1, s, y)\n",
        "print('s = ', s)\n",
        "print('y = ', y)\n",
        "print('location = ', location)\n",
        "print('*'* 50)\n",
        "location = binsearch(len(s)-1, s, z)\n",
        "print('s = ', s)\n",
        "print('z = ', z)\n",
        "print('location = ', location)"
      ],
      "metadata": {
        "colab": {
          "base_uri": "https://localhost:8080/"
        },
        "id": "tY_9fNWFeSIb",
        "outputId": "e4008c11-937c-4efb-84a6-20d5eeb289c9"
      },
      "execution_count": 44,
      "outputs": [
        {
          "output_type": "stream",
          "name": "stdout",
          "text": [
            "s =  [-1, 5, 7, 8, 10, 11, 13]\n",
            "x =  2\n",
            "location =  0\n",
            "**************************************************\n",
            "s =  [-1, 5, 7, 8, 10, 11, 13]\n",
            "y =  7\n",
            "location =  2\n",
            "**************************************************\n",
            "s =  [-1, 5, 7, 8, 10, 11, 13]\n",
            "z =  10\n",
            "location =  4\n"
          ]
        }
      ]
    },
    {
      "cell_type": "markdown",
      "source": [
        "# 피보나치 수열의 n번째 항 구하기"
      ],
      "metadata": {
        "id": "-9KrKKKkgbsy"
      }
    },
    {
      "cell_type": "code",
      "source": [
        "def fib (n) :\n",
        "  if n<=1 :\n",
        "    return n \n",
        "  else :\n",
        "    return fib(n-1) + fib(n-2)\n",
        "\n",
        "for i in range(11) :\n",
        "  print(fib(i), end=\" \")\n",
        "\n",
        "  "
      ],
      "metadata": {
        "colab": {
          "base_uri": "https://localhost:8080/"
        },
        "id": "Pa7CY3Ymfd6g",
        "outputId": "4dffbbbe-8ba7-4a9c-a0ab-06adf81e2bc0"
      },
      "execution_count": 45,
      "outputs": [
        {
          "output_type": "stream",
          "name": "stdout",
          "text": [
            "0 1 1 2 3 5 8 13 21 34 55 "
          ]
        }
      ]
    },
    {
      "cell_type": "code",
      "source": [
        "def fib2 (n) :\n",
        "  f = [0] * (n+1)\n",
        "  if n > 0 :\n",
        "    f[1] = 1\n",
        "    for i in range(2, n+1):\n",
        "      f[i] = f[i-1] + f[i-2]\n",
        "  return f[n]\n",
        "\n",
        "for i in range(11) :\n",
        "  print(fib2(i), end=\" \")\n"
      ],
      "metadata": {
        "colab": {
          "base_uri": "https://localhost:8080/"
        },
        "id": "D2wHQQXwgtGg",
        "outputId": "28306980-3b52-485d-803f-b16d8c393356"
      },
      "execution_count": 47,
      "outputs": [
        {
          "output_type": "stream",
          "name": "stdout",
          "text": [
            "0 1 1 2 3 5 8 13 21 34 55 "
          ]
        }
      ]
    },
    {
      "cell_type": "code",
      "source": [
        ""
      ],
      "metadata": {
        "id": "dmb4j9IJhIlg"
      },
      "execution_count": null,
      "outputs": []
    }
  ]
}