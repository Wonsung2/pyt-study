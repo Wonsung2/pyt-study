{
  "nbformat": 4,
  "nbformat_minor": 0,
  "metadata": {
    "colab": {
      "name": "Algorithm_03.ipynb",
      "provenance": []
    },
    "kernelspec": {
      "name": "python3",
      "display_name": "Python 3"
    },
    "language_info": {
      "name": "python"
    }
  },
  "cells": [
    {
      "cell_type": "markdown",
      "source": [
        "## 퀵 정렬 : 분한 정복"
      ],
      "metadata": {
        "id": "JztcrIILlxTo"
      }
    },
    {
      "cell_type": "code",
      "source": [
        "def quicksort(s, low, high):\n",
        "  if high > low :\n",
        "    pivotpoint = partition(s, low, high)\n",
        "    quicksort(s, low, pivotpoint-1)\n",
        "    quicksort(s, pivotpoint+1, high)\n",
        "\n",
        "def partition(s, low, high):\n",
        "  pivotitem = s[low]\n",
        "  j = low\n",
        "  for i in range(low+1, high+1):\n",
        "    print(i,j,s)\n",
        "    if s[i] < pivotitem :\n",
        "      j += 1\n",
        "      s[i], s[j] = s[j], s[i]\n",
        "  pivotpoint = j\n",
        "  s[low], s[pivotpoint] = s[pivotpoint], s[low]\n",
        "  return pivotpoint\n",
        "\n"
      ],
      "metadata": {
        "id": "SVx4J7gLlzFG"
      },
      "execution_count": 7,
      "outputs": []
    },
    {
      "cell_type": "code",
      "source": [
        "s = [15, 22, 13, 27, 12, 10, 20, 25]\n",
        "print('before : ', s)\n",
        "quicksort(s,0,len(s)-1)\n",
        "print('after : ', s)"
      ],
      "metadata": {
        "colab": {
          "base_uri": "https://localhost:8080/"
        },
        "id": "SxQkfH8_mlDG",
        "outputId": "f016722e-8a78-43bd-b8ce-e2654aa50951"
      },
      "execution_count": 8,
      "outputs": [
        {
          "output_type": "stream",
          "name": "stdout",
          "text": [
            "before :  [15, 22, 13, 27, 12, 10, 20, 25]\n",
            "1 0 [15, 22, 13, 27, 12, 10, 20, 25]\n",
            "2 0 [15, 22, 13, 27, 12, 10, 20, 25]\n",
            "3 1 [15, 13, 22, 27, 12, 10, 20, 25]\n",
            "4 1 [15, 13, 22, 27, 12, 10, 20, 25]\n",
            "5 2 [15, 13, 12, 27, 22, 10, 20, 25]\n",
            "6 3 [15, 13, 12, 10, 22, 27, 20, 25]\n",
            "7 3 [15, 13, 12, 10, 22, 27, 20, 25]\n",
            "1 0 [10, 13, 12, 15, 22, 27, 20, 25]\n",
            "2 0 [10, 13, 12, 15, 22, 27, 20, 25]\n",
            "2 1 [10, 13, 12, 15, 22, 27, 20, 25]\n",
            "5 4 [10, 12, 13, 15, 22, 27, 20, 25]\n",
            "6 4 [10, 12, 13, 15, 22, 27, 20, 25]\n",
            "7 5 [10, 12, 13, 15, 22, 20, 27, 25]\n",
            "7 6 [10, 12, 13, 15, 20, 22, 27, 25]\n",
            "after :  [10, 12, 13, 15, 20, 22, 25, 27]\n"
          ]
        }
      ]
    },
    {
      "cell_type": "code",
      "source": [
        "def quicksort2(s, low, high):\n",
        "  if high > low :\n",
        "    pivotpoint = partition2(s, low, high)\n",
        "    quicksort2(s, low, pivotpoint-1)\n",
        "    quicksort2(s, pivotpoint+1, high)\n",
        "\n",
        "def partition2(s,low,high):\n",
        "  pivotitem = s[low]\n",
        "  i = low +1 \n",
        "  j = high\n",
        "  while (i <= j):\n",
        "    while(s[i] < pivotitem):\n",
        "      i += 1\n",
        "    while(s[j > pivotitem]):\n",
        "      j -= 1\n",
        "    if i < j :\n",
        "      s[i], s[j] = s[j], s[i]\n",
        "  pivotitem = j\n",
        "  s[low], s[pivotpoint] = s[pivotpoint], s[low]\n",
        "  return pivotpoint"
      ],
      "metadata": {
        "id": "1IfQ4bbFmw3_"
      },
      "execution_count": 13,
      "outputs": []
    },
    {
      "cell_type": "code",
      "source": [
        "s = [15, 22, 13, 27, 12, 10, 20, 25]\n",
        "print('before : ', s)\n",
        "partition2(s,0,len(s)-1)\n",
        "print('after : ', s)"
      ],
      "metadata": {
        "id": "UrrlSKKMofRh"
      },
      "execution_count": null,
      "outputs": []
    },
    {
      "cell_type": "markdown",
      "source": [
        "## 쉬트라쎈의 행렬 곱셈"
      ],
      "metadata": {
        "id": "OYH2UmxBse3a"
      }
    },
    {
      "cell_type": "code",
      "source": [
        "def strassen(A,B):\n",
        "  n = len(A)\n",
        "  if n <= threshold :\n",
        "      return matrixmult(A,B)\n",
        "  A11, A12, A21, A22 = divide(A)\n",
        "  B11, B12, B21, B22 = divide(B)\n",
        "  M1 = strassen(madd(A11, A22), madd(B11,B22))\n",
        "  M2 = strassen(madd(A11, A22), B11)\n",
        "  M3 = strassen(A11, msub(B12,B22))\n",
        "  M4 = strassen(A22, msub(B21,B11))\n",
        "  M5 = strassen(madd(A11, A22), B22)\n",
        "  M6 = strassen(msub(A21, A11), madd(B11,B12))\n",
        "  M7 = strassen(msub(A12, A22), madd(B21,B22))\n",
        "  return conquer(M1, M2, M3, M4, M5, M6, M7)\n"
      ],
      "metadata": {
        "id": "yamZLIDiohRG"
      },
      "execution_count": 26,
      "outputs": []
    },
    {
      "cell_type": "code",
      "source": [
        "def divide(A):\n",
        "  n = len(A)\n",
        "  m = n // 2 \n",
        "  A11 = [[0] * m for _ in range(m)]\n",
        "  A12 = [[0] * m for _ in range(m)]\n",
        "  A21 = [[0] * m for _ in range(m)]\n",
        "  A22 = [[0] * m for _ in range(m)]\n",
        "  for i in range(m):\n",
        "    for j in range(m):\n",
        "      A11[i][j] = A[i][j]\n",
        "      A12[i][j] = A[i][j+m]\n",
        "      A21[i][j] = A[i+m][j]\n",
        "      A22[i][j] = A[i+m][j+m]\n",
        "  return A11, A12, A21, A22"
      ],
      "metadata": {
        "id": "meZeqkDntbzb"
      },
      "execution_count": 27,
      "outputs": []
    },
    {
      "cell_type": "code",
      "source": [
        "def conquer(M1, M2, M3, M4, M5, M6, M7):\n",
        "  C11 = madd(msub(madd(M1, M4), M5), M7)\n",
        "  C12 = madd(M3, M5)\n",
        "  C21 = madd(M2, M4)\n",
        "  C22 = madd(msub(madd(M1, M3), M2), M6)\n",
        "  m = len(C11)\n",
        "  n = 2 * m\n",
        "  C = [[0] * n for _ in range(n)]\n",
        "  for i in range(m):\n",
        "    for j in range(m):\n",
        "      C[i][j]     = C11[i][j]\n",
        "      C[i][j+m]   = C12[i][j]\n",
        "      C[i+m][j]   = C21[i][j]\n",
        "      C[i+m][j+m] = C22[i][j]\n",
        "  return C\n"
      ],
      "metadata": {
        "id": "OKg02scauK60"
      },
      "execution_count": 32,
      "outputs": []
    },
    {
      "cell_type": "code",
      "source": [
        "def matrixmult(A, B):\n",
        "  n = len(A)\n",
        "  C = [[0] * n for _ in range(n)]\n",
        "  for i in range(n):\n",
        "    for j in range(n):\n",
        "      for k in range(n) :\n",
        "        C[i][j] += A[i][k] * B[k][j]\n",
        "  return C"
      ],
      "metadata": {
        "id": "ELLFxQx8v6_M"
      },
      "execution_count": 33,
      "outputs": []
    },
    {
      "cell_type": "code",
      "source": [
        "def madd(A, B):\n",
        "  n = len(A)\n",
        "  C = [[0] * n for _ in range(n)]\n",
        "  for i in range(n):\n",
        "    for j in range(n):\n",
        "      C[i][j] = A[i][j] + B[i][j]\n",
        "  return C\n",
        "\n",
        "def msub(A, B):\n",
        "  n = len(A)\n",
        "  C = [[0] * n for _ in range(n)]\n",
        "  for i in range(n):\n",
        "    for j in range(n):\n",
        "      C[i][j] = A[i][j] - B[i][j]\n",
        "  return C\n",
        "\n"
      ],
      "metadata": {
        "id": "nnPBKhCRwVii"
      },
      "execution_count": 34,
      "outputs": []
    },
    {
      "cell_type": "code",
      "source": [
        "threshold = 2\n",
        "A = [\n",
        "    [1, 2, 3, 4],\n",
        "    [5, 6, 7, 8],\n",
        "    [9, 1, 2, 3],\n",
        "    [4, 5, 6, 7]\n",
        "]\n",
        "B = [\n",
        "    [8, 9, 1, 2],\n",
        "    [3, 4, 5, 6],\n",
        "    [7, 8, 9, 1],\n",
        "    [2, 3, 4, 5]\n",
        "]\n",
        "\n",
        "print('threshold = ', threshold)\n",
        "print('A = ', A)\n",
        "print('B = ', B)\n",
        "C = strassen(A, B)\n",
        "for i in range(len(C)):\n",
        "  print('C[%d] = '%(i), C[i])\n",
        "\n",
        "D = matrixmult(A, B)\n",
        "for i in range(len(D)):\n",
        "  print('D[%d] = '%(i), D[i])"
      ],
      "metadata": {
        "colab": {
          "base_uri": "https://localhost:8080/"
        },
        "id": "AC9uYhCbu79u",
        "outputId": "ddd0ca10-606e-4662-ea2b-286454c8db3a"
      },
      "execution_count": 35,
      "outputs": [
        {
          "output_type": "stream",
          "name": "stdout",
          "text": [
            "threshold =  2\n",
            "A =  [[1, 2, 3, 4], [5, 6, 7, 8], [9, 1, 2, 3], [4, 5, 6, 7]]\n",
            "B =  [[8, 9, 1, 2], [3, 4, 5, 6], [7, 8, 9, 1], [2, 3, 4, 5]]\n",
            "C[0] =  [56, 59, 41, 31]\n",
            "C[1] =  [136, 155, 117, 87]\n",
            "C[2] =  [34, 42, 105, 109]\n",
            "C[3] =  [114, 138, 100, 66]\n",
            "D[0] =  [43, 53, 54, 37]\n",
            "D[1] =  [123, 149, 130, 93]\n",
            "D[2] =  [95, 110, 44, 41]\n",
            "D[3] =  [103, 125, 111, 79]\n"
          ]
        }
      ]
    },
    {
      "cell_type": "code",
      "source": [
        ""
      ],
      "metadata": {
        "id": "F3ooQGbtv7_D"
      },
      "execution_count": null,
      "outputs": []
    }
  ]
}