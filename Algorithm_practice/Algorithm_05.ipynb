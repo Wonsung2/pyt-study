{
  "nbformat": 4,
  "nbformat_minor": 0,
  "metadata": {
    "colab": {
      "name": "Algorithm_05.ipynb",
      "provenance": []
    },
    "kernelspec": {
      "name": "python3",
      "display_name": "Python 3"
    },
    "language_info": {
      "name": "python"
    }
  },
  "cells": [
    {
      "cell_type": "code",
      "execution_count": 1,
      "metadata": {
        "id": "7ieThFXaPrks"
      },
      "outputs": [],
      "source": [
        "def ladd(u,v):\n",
        "  n = len(u) if len(u) > len(v) else len(v)\n",
        "  result = []\n",
        "  carry = 0\n",
        "  for k in range(n) : \n",
        "    i = u[k] if k < len(u) else 0\n",
        "    j = v[k] if k < len(v) else 0\n",
        "    value = i + j + carry\n",
        "    carry = value // 10\n",
        "    result.append(value % 10)\n",
        "  if carry > 0 :\n",
        "    result.append(carry)\n",
        "  return result"
      ]
    },
    {
      "cell_type": "code",
      "source": [
        "u = [3, 2 ,1]\n",
        "v = [5, 4]\n",
        "print(123 + 45)\n",
        "print(ladd(u,v)[::-1])"
      ],
      "metadata": {
        "colab": {
          "base_uri": "https://localhost:8080/"
        },
        "id": "iGfcjEvFUMvE",
        "outputId": "7f509a7c-3809-4ede-a18e-b2791f289ada"
      },
      "execution_count": 3,
      "outputs": [
        {
          "output_type": "stream",
          "name": "stdout",
          "text": [
            "168\n",
            "[1, 6, 8]\n"
          ]
        }
      ]
    },
    {
      "cell_type": "code",
      "source": [
        "u = [2, 3, 8, 7, 6, 5]\n",
        "v = [3, 2, 7, 3, 2, 4, 9]\n",
        "print(567832 + 9423723)\n",
        "print(ladd(u,v)[::-1])"
      ],
      "metadata": {
        "colab": {
          "base_uri": "https://localhost:8080/"
        },
        "id": "xbvq3RSrUTA7",
        "outputId": "51cf9069-667c-480d-99c0-f2812ec049df"
      },
      "execution_count": 4,
      "outputs": [
        {
          "output_type": "stream",
          "name": "stdout",
          "text": [
            "9991555\n",
            "[9, 9, 9, 1, 5, 5, 5]\n"
          ]
        }
      ]
    },
    {
      "cell_type": "code",
      "source": [
        "def prod(u,v):\n",
        "  n = len(u) if len(u) > len(v) else len(v)\n",
        "  if (len(u) == 0 or len(v) == 0 ):\n",
        "    print(u,v,[0])\n",
        "    return [0]\n",
        "\n",
        "  elif n <= threshold:\n",
        "    return lmult(u,v)\n",
        "  else :\n",
        "    m = n // 2\n",
        "    x = div(u,m)\n",
        "    y = rem(u,m)\n",
        "    w = div(v,m)\n",
        "    z = rem(v,m)\n",
        "    p1 = prod(x,w)\n",
        "    p2 = ladd(prod(x,z), prod(w,y))\n",
        "    p3 = prod(y,z)\n",
        "    return ladd(ladd(exp(p1, 2*m), exp(p2,m)), p3)\n",
        "\n",
        "def exp(u,m):\n",
        "  if u == [0]:\n",
        "    return [0]\n",
        "  else :\n",
        "    return [0]*m + u\n",
        "\n",
        "def div(u,m):\n",
        "  if len(u) < m :\n",
        "    u.append(0)\n",
        "  return u[m:len(u)]\n",
        "\n",
        "def rem(u,m):\n",
        "  if len(u) < m :\n",
        "    u.append(0)\n",
        "  \n",
        "  return u[0:m]\n",
        "\n",
        "def lmult(u,v):\n",
        "  i = u[0] if 0 < len(u) else 0\n",
        "  j = v[0] if 0 < len(v) else 0\n",
        "  value = i*j\n",
        "  carry = value // 10\n",
        "  result = []\n",
        "  result.append(value % 10)\n",
        "  if carry > 0 :\n",
        "    result.append(carry)\n",
        "  return result"
      ],
      "metadata": {
        "id": "kaSqd8ZrUi-I"
      },
      "execution_count": 16,
      "outputs": []
    },
    {
      "cell_type": "code",
      "source": [
        "threshold = 1\n",
        "\n",
        "u = [2, 3, 8, 7, 6, 5]\n",
        "v = [3, 2, 7, 3, 2, 4, 9]\n",
        "\n",
        "print(exp(u,3))\n",
        "print(div(u,3))\n",
        "print(rem(u,3))\n"
      ],
      "metadata": {
        "colab": {
          "base_uri": "https://localhost:8080/"
        },
        "id": "BofECMMXU8Ke",
        "outputId": "2f0da63e-5ac9-4a62-aa1a-7bc51f05205b"
      },
      "execution_count": 17,
      "outputs": [
        {
          "output_type": "stream",
          "name": "stdout",
          "text": [
            "[0, 0, 0, 2, 3, 8, 7, 6, 5]\n",
            "[7, 6, 5]\n",
            "[2, 3, 8]\n"
          ]
        }
      ]
    },
    {
      "cell_type": "code",
      "source": [
        "print(567832 * 9423723)\n",
        "print(prod(u,v)[::-1])"
      ],
      "metadata": {
        "colab": {
          "base_uri": "https://localhost:8080/"
        },
        "id": "7-4k7VvwWJfh",
        "outputId": "3178b703-700d-4f40-f06b-a4d4f6273581"
      },
      "execution_count": 18,
      "outputs": [
        {
          "output_type": "stream",
          "name": "stdout",
          "text": [
            "5351091478536\n",
            "[] [9] [0]\n",
            "[] [4] [0]\n",
            "[] [2] [0]\n",
            "[] [3] [0]\n",
            "[5] [] [0]\n",
            "[] [6] [0]\n",
            "[7] [] [0]\n",
            "[] [2] [0]\n",
            "[9] [] [0]\n",
            "[] [4] [0]\n",
            "[] [2] [0]\n",
            "[] [3] [0]\n",
            "[8] [] [0]\n",
            "[] [3] [0]\n",
            "[7] [] [0]\n",
            "[] [2] [0]\n",
            "[5, 3, 5, 1, 0, 9, 1, 4, 7, 8, 5, 3, 6]\n"
          ]
        }
      ]
    },
    {
      "cell_type": "code",
      "source": [
        ""
      ],
      "metadata": {
        "id": "MOy2eqIsXeHq"
      },
      "execution_count": null,
      "outputs": []
    }
  ]
}