{
  "nbformat": 4,
  "nbformat_minor": 0,
  "metadata": {
    "colab": {
      "provenance": []
    },
    "kernelspec": {
      "name": "python3",
      "display_name": "Python 3"
    },
    "language_info": {
      "name": "python"
    }
  },
  "cells": [
    {
      "cell_type": "code",
      "execution_count": null,
      "metadata": {
        "colab": {
          "base_uri": "https://localhost:8080/"
        },
        "id": "HLXmNres_r1S",
        "outputId": "9ceccf92-cae0-4da2-ed9e-9b98a3fc830a"
      },
      "outputs": [
        {
          "output_type": "stream",
          "name": "stdout",
          "text": [
            "숫자를 입력하세요 :3\n",
            "3\n"
          ]
        }
      ],
      "source": [
        "a = input('숫자를 입력하세요 :')\n",
        "print(a)"
      ]
    },
    {
      "cell_type": "code",
      "source": [
        "a, b = input('숫자를 입력하세요 :').split()\n",
        "print(type(a))\n",
        "c = a+b # 그냥 숫자끼리 연결이 된다.\n",
        "print(type(c))\n",
        "print(c)"
      ],
      "metadata": {
        "colab": {
          "base_uri": "https://localhost:8080/"
        },
        "id": "cmCtPtJR_yCE",
        "outputId": "7629f5fa-98f6-4669-c718-f82852471d64"
      },
      "execution_count": null,
      "outputs": [
        {
          "output_type": "stream",
          "name": "stdout",
          "text": [
            "숫자를 입력하세요 :2 3\n",
            "<class 'str'>\n",
            "<class 'str'>\n",
            "23\n"
          ]
        }
      ]
    },
    {
      "cell_type": "markdown",
      "source": [],
      "metadata": {
        "id": "EbSpjEgBW6qB"
      }
    },
    {
      "cell_type": "code",
      "source": [
        "# a+b를 연산하고 싶다면\n",
        "a, b = input('숫자를 입력하세요 :').split()\n",
        "a = int(a)\n",
        "print(type(a))\n",
        "b = int(b)\n",
        "print(type(b))\n",
        "c = a+b\n",
        "print(type(c))\n",
        "print(c)"
      ],
      "metadata": {
        "colab": {
          "base_uri": "https://localhost:8080/"
        },
        "id": "F4xFGzXFAIdU",
        "outputId": "460b656f-d570-4b02-b7bc-e591fd51c2b6"
      },
      "execution_count": null,
      "outputs": [
        {
          "output_type": "stream",
          "name": "stdout",
          "text": [
            "숫자를 입력하세요 :2 3\n",
            "<class 'int'>\n",
            "<class 'int'>\n",
            "<class 'int'>\n",
            "5\n"
          ]
        }
      ]
    },
    {
      "cell_type": "code",
      "source": [
        "# map 함수\n",
        "\n",
        "a, b = map(int, input('숫자를 입력하세요 : ').split())\n",
        "print(a+b)\n",
        "print(a-b)\n",
        "print(a*b)\n",
        "print(a/b)\n",
        "print(a//b)\n",
        "print(a%b)\n",
        "print(a**b)"
      ],
      "metadata": {
        "colab": {
          "base_uri": "https://localhost:8080/"
        },
        "id": "7dpba6SE_8Dr",
        "outputId": "68f322a1-c299-4183-c844-62ad1353f5de"
      },
      "execution_count": null,
      "outputs": [
        {
          "output_type": "stream",
          "name": "stdout",
          "text": [
            "숫자를 입력하세요 : 3 2\n",
            "5\n",
            "1\n",
            "6\n",
            "1.5\n",
            "1\n",
            "1\n",
            "9\n"
          ]
        }
      ]
    },
    {
      "cell_type": "code",
      "source": [
        "a = 4.3\n",
        "b = 5\n",
        "\n",
        "c = a + b\n",
        "print(type(c))"
      ],
      "metadata": {
        "colab": {
          "base_uri": "https://localhost:8080/"
        },
        "id": "ooDgtizHAeEK",
        "outputId": "973f80a6-e63f-4873-81b7-8e686d1b729e"
      },
      "execution_count": null,
      "outputs": [
        {
          "output_type": "stream",
          "name": "stdout",
          "text": [
            "<class 'float'>\n"
          ]
        }
      ]
    },
    {
      "cell_type": "code",
      "source": [
        "a = range(1,11)\n",
        "print(list(a))"
      ],
      "metadata": {
        "colab": {
          "base_uri": "https://localhost:8080/"
        },
        "id": "H6VuHANKBdSQ",
        "outputId": "a75c9620-5e3b-42b6-deff-94d0b58e82d1"
      },
      "execution_count": null,
      "outputs": [
        {
          "output_type": "stream",
          "name": "stdout",
          "text": [
            "[1, 2, 3, 4, 5, 6, 7, 8, 9, 10]\n"
          ]
        }
      ]
    },
    {
      "cell_type": "code",
      "source": [
        "i = 1 \n",
        "while i<=10:\n",
        "  print(i)\n",
        "  i = i + 1"
      ],
      "metadata": {
        "colab": {
          "base_uri": "https://localhost:8080/"
        },
        "id": "SkVVcC_oCBCf",
        "outputId": "7f2b5010-946e-44fc-862b-3c68b06a36cc"
      },
      "execution_count": null,
      "outputs": [
        {
          "output_type": "stream",
          "name": "stdout",
          "text": [
            "1\n",
            "2\n",
            "3\n",
            "4\n",
            "5\n",
            "6\n",
            "7\n",
            "8\n",
            "9\n",
            "10\n"
          ]
        }
      ]
    },
    {
      "cell_type": "code",
      "source": [
        "i = 10\n",
        "while i >= 1:\n",
        "  print(i)\n",
        "  i = i - 1"
      ],
      "metadata": {
        "colab": {
          "base_uri": "https://localhost:8080/"
        },
        "id": "usG-syFVCOi9",
        "outputId": "dc497be9-7eaf-44b6-e702-3a95e851e979"
      },
      "execution_count": null,
      "outputs": [
        {
          "output_type": "stream",
          "name": "stdout",
          "text": [
            "10\n",
            "9\n",
            "8\n",
            "7\n",
            "6\n",
            "5\n",
            "4\n",
            "3\n",
            "2\n",
            "1\n"
          ]
        }
      ]
    },
    {
      "cell_type": "code",
      "source": [
        "i = 1\n",
        "while True:\n",
        "  print(i)\n",
        "  if i == 10:\n",
        "    break\n",
        "  i += 1"
      ],
      "metadata": {
        "colab": {
          "base_uri": "https://localhost:8080/"
        },
        "id": "gK4_C1DVCT7n",
        "outputId": "f9c0f012-66e2-4b6e-8bc4-113810d73e28"
      },
      "execution_count": null,
      "outputs": [
        {
          "output_type": "stream",
          "name": "stdout",
          "text": [
            "1\n",
            "2\n",
            "3\n",
            "4\n",
            "5\n",
            "6\n",
            "7\n",
            "8\n",
            "9\n",
            "10\n"
          ]
        }
      ]
    },
    {
      "cell_type": "code",
      "source": [
        "for i in range(1,11):\n",
        "  if i % 2 == 1 :\n",
        "   print(i)"
      ],
      "metadata": {
        "colab": {
          "base_uri": "https://localhost:8080/"
        },
        "id": "2gtrkvScCqvJ",
        "outputId": "285573e8-adec-4f53-dc8c-c46d353ecf27"
      },
      "execution_count": null,
      "outputs": [
        {
          "output_type": "stream",
          "name": "stdout",
          "text": [
            "1\n",
            "3\n",
            "5\n",
            "7\n",
            "9\n"
          ]
        }
      ]
    },
    {
      "cell_type": "code",
      "source": [
        "for i in range(1,11):\n",
        "  print(i)\n",
        "  if i > 15:\n",
        "    break\n",
        "else:\n",
        "  print(11)"
      ],
      "metadata": {
        "colab": {
          "base_uri": "https://localhost:8080/"
        },
        "id": "t_eqBZuGC0pw",
        "outputId": "9edb878c-24cf-4446-82e9-2cb77e38674d"
      },
      "execution_count": null,
      "outputs": [
        {
          "output_type": "stream",
          "name": "stdout",
          "text": [
            "1\n",
            "2\n",
            "3\n",
            "4\n",
            "5\n",
            "6\n",
            "7\n",
            "8\n",
            "9\n",
            "10\n",
            "11\n"
          ]
        }
      ]
    },
    {
      "cell_type": "code",
      "source": [
        "# 1부터 N까지 홀수 출력하기\n",
        "N = int(input('자연수를 입력해주세요 : '))\n",
        "for i in range(1, N+1):\n",
        "  if i % 2 == 1:\n",
        "    print(i)"
      ],
      "metadata": {
        "colab": {
          "base_uri": "https://localhost:8080/"
        },
        "id": "IQG31nQ_DeDp",
        "outputId": "c3067d66-afbf-4a24-c9f2-b9991ac76a83"
      },
      "execution_count": null,
      "outputs": [
        {
          "output_type": "stream",
          "name": "stdout",
          "text": [
            "자연수를 입력해주세요 : 11\n",
            "1\n",
            "3\n",
            "5\n",
            "7\n",
            "9\n",
            "11\n"
          ]
        }
      ]
    },
    {
      "cell_type": "code",
      "source": [
        "# 1부터 N까지의 합 구하기\n",
        "n = int(input())\n",
        "sum2 = 0 \n",
        "for i in range(1, n+1):\n",
        "  sum2 = sum2+i\n",
        "\n",
        "print(sum2)"
      ],
      "metadata": {
        "colab": {
          "base_uri": "https://localhost:8080/"
        },
        "id": "oFx8B2woDy7V",
        "outputId": "27f0d016-44d2-4cc3-f154-900da5a729b6"
      },
      "execution_count": null,
      "outputs": [
        {
          "output_type": "stream",
          "name": "stdout",
          "text": [
            "1\n",
            "1\n"
          ]
        }
      ]
    },
    {
      "cell_type": "code",
      "source": [
        "# N의 약수출력하기\n",
        "n = int(input())\n",
        "for i in range(1, n+1):\n",
        "  if n % i == 0:\n",
        "    print(i, end=' ')\n",
        "\n"
      ],
      "metadata": {
        "colab": {
          "base_uri": "https://localhost:8080/"
        },
        "id": "JFzFY6btEL-v",
        "outputId": "4e35964d-b351-4885-e1a9-43b121e9725a"
      },
      "execution_count": null,
      "outputs": [
        {
          "output_type": "stream",
          "name": "stdout",
          "text": [
            "60\n",
            "1 2 3 4 5 6 10 12 15 20 30 60 "
          ]
        }
      ]
    },
    {
      "cell_type": "code",
      "source": [
        "# 2중 for문\n",
        "for i in range(5):\n",
        "  for j in range(5):\n",
        "    print((i,j), end=' ')\n",
        "  print()"
      ],
      "metadata": {
        "colab": {
          "base_uri": "https://localhost:8080/"
        },
        "id": "BTXOaC0UFBdJ",
        "outputId": "200cec0d-1ff8-488e-93d9-f26ee09e9d75"
      },
      "execution_count": null,
      "outputs": [
        {
          "output_type": "stream",
          "name": "stdout",
          "text": [
            "(0, 0) (0, 1) (0, 2) (0, 3) (0, 4) \n",
            "(1, 0) (1, 1) (1, 2) (1, 3) (1, 4) \n",
            "(2, 0) (2, 1) (2, 2) (2, 3) (2, 4) \n",
            "(3, 0) (3, 1) (3, 2) (3, 3) (3, 4) \n",
            "(4, 0) (4, 1) (4, 2) (4, 3) (4, 4) \n"
          ]
        }
      ]
    },
    {
      "cell_type": "code",
      "source": [
        "for i in range(5):\n",
        "  for j in range(i+1):\n",
        "    print('*', end=' ')\n",
        "  print()"
      ],
      "metadata": {
        "colab": {
          "base_uri": "https://localhost:8080/"
        },
        "id": "9gMCwxf8FM42",
        "outputId": "9103552c-a14e-49b1-a4a0-de10bd71be52"
      },
      "execution_count": null,
      "outputs": [
        {
          "output_type": "stream",
          "name": "stdout",
          "text": [
            "* \n",
            "* * \n",
            "* * * \n",
            "* * * * \n",
            "* * * * * \n"
          ]
        }
      ]
    },
    {
      "cell_type": "code",
      "source": [
        "for i in range(5) :\n",
        "  for j in range(5-i):\n",
        "    print('*', end=' ')\n",
        "  print()"
      ],
      "metadata": {
        "colab": {
          "base_uri": "https://localhost:8080/"
        },
        "id": "b1htGtB5GCyD",
        "outputId": "b8aa3618-0293-4813-b07e-36aa00804827"
      },
      "execution_count": null,
      "outputs": [
        {
          "output_type": "stream",
          "name": "stdout",
          "text": [
            "* * * * * \n",
            "* * * * \n",
            "* * * \n",
            "* * \n",
            "* \n"
          ]
        }
      ]
    },
    {
      "cell_type": "code",
      "source": [
        "msg = 'Hi My Name Is Wonsung'\n",
        "print(msg.upper())"
      ],
      "metadata": {
        "colab": {
          "base_uri": "https://localhost:8080/"
        },
        "id": "NjE4m3tWGIQk",
        "outputId": "5a74192d-7483-49d6-aeb3-ff57a78dfcf5"
      },
      "execution_count": null,
      "outputs": [
        {
          "output_type": "stream",
          "name": "stdout",
          "text": [
            "HI MY NAME IS WONSUNG\n"
          ]
        }
      ]
    },
    {
      "cell_type": "code",
      "source": [
        "msg = 'Hi My Name Is Wonsung'\n",
        "print(msg.lower())"
      ],
      "metadata": {
        "colab": {
          "base_uri": "https://localhost:8080/"
        },
        "id": "Ift2Rx-AGXno",
        "outputId": "87c1fb1e-e4b7-4910-c662-9104c3900954"
      },
      "execution_count": null,
      "outputs": [
        {
          "output_type": "stream",
          "name": "stdout",
          "text": [
            "hi my name is wonsung\n"
          ]
        }
      ]
    },
    {
      "cell_type": "code",
      "source": [
        "msg"
      ],
      "metadata": {
        "colab": {
          "base_uri": "https://localhost:8080/",
          "height": 35
        },
        "id": "6ESbdWi8GZ1E",
        "outputId": "3100035b-ec3d-44c0-afaa-92de36db0ee0"
      },
      "execution_count": null,
      "outputs": [
        {
          "output_type": "execute_result",
          "data": {
            "text/plain": [
              "'Hi My Name Is Wonsung'"
            ],
            "application/vnd.google.colaboratory.intrinsic+json": {
              "type": "string"
            }
          },
          "metadata": {},
          "execution_count": 42
        }
      ]
    },
    {
      "cell_type": "code",
      "source": [
        "MSG = msg.upper()\n",
        "MSG"
      ],
      "metadata": {
        "colab": {
          "base_uri": "https://localhost:8080/",
          "height": 35
        },
        "id": "W2Tg1GWMGa3Y",
        "outputId": "20280024-af9c-4c68-da8e-8419be854cd4"
      },
      "execution_count": null,
      "outputs": [
        {
          "output_type": "execute_result",
          "data": {
            "text/plain": [
              "'HI MY NAME IS WONSUNG'"
            ],
            "application/vnd.google.colaboratory.intrinsic+json": {
              "type": "string"
            }
          },
          "metadata": {},
          "execution_count": 45
        }
      ]
    },
    {
      "cell_type": "code",
      "source": [
        "print(MSG.find('I'))"
      ],
      "metadata": {
        "colab": {
          "base_uri": "https://localhost:8080/"
        },
        "id": "CXKR2mXQGuKJ",
        "outputId": "d8729cc5-9deb-4c4d-b347-e7d608199be1"
      },
      "execution_count": null,
      "outputs": [
        {
          "output_type": "stream",
          "name": "stdout",
          "text": [
            "1\n"
          ]
        }
      ]
    },
    {
      "cell_type": "code",
      "source": [
        "print(MSG.count('I'))"
      ],
      "metadata": {
        "colab": {
          "base_uri": "https://localhost:8080/"
        },
        "id": "UbhwASd_GxDP",
        "outputId": "a1fa5a3b-9625-4299-b611-fe027371b2e0"
      },
      "execution_count": null,
      "outputs": [
        {
          "output_type": "stream",
          "name": "stdout",
          "text": [
            "2\n"
          ]
        }
      ]
    },
    {
      "cell_type": "code",
      "source": [
        "for i in range(len(msg)) :\n",
        "  print(msg[i], end='')"
      ],
      "metadata": {
        "colab": {
          "base_uri": "https://localhost:8080/"
        },
        "id": "W6lBqpU8G7cE",
        "outputId": "b7d4ec32-860a-41cf-ecf2-300808f09c47"
      },
      "execution_count": null,
      "outputs": [
        {
          "output_type": "stream",
          "name": "stdout",
          "text": [
            "Hi My Name Is Wonsung"
          ]
        }
      ]
    },
    {
      "cell_type": "code",
      "source": [
        "for x in msg:\n",
        "  print(x, end='')"
      ],
      "metadata": {
        "colab": {
          "base_uri": "https://localhost:8080/"
        },
        "id": "rGnZj_TMHKr1",
        "outputId": "57f1ef9c-f90d-4a5e-e08e-708ae94e4156"
      },
      "execution_count": null,
      "outputs": [
        {
          "output_type": "stream",
          "name": "stdout",
          "text": [
            "Hi My Name Is Wonsung"
          ]
        }
      ]
    },
    {
      "cell_type": "code",
      "source": [
        "for x in msg:\n",
        "  if x.isupper():\n",
        "    print(x, end=' ')"
      ],
      "metadata": {
        "colab": {
          "base_uri": "https://localhost:8080/"
        },
        "id": "NGFn337DHcAm",
        "outputId": "9e8b2988-0130-4606-e6ae-8aa2e7f8cee8"
      },
      "execution_count": null,
      "outputs": [
        {
          "output_type": "stream",
          "name": "stdout",
          "text": [
            "H M N I W "
          ]
        }
      ]
    },
    {
      "cell_type": "code",
      "source": [
        "for x in msg:\n",
        "  if x.islower():\n",
        "    print(x, end=' ')"
      ],
      "metadata": {
        "colab": {
          "base_uri": "https://localhost:8080/"
        },
        "id": "0IWrcipPHluI",
        "outputId": "78981f6b-c35b-42a3-b934-15baea15a8b2"
      },
      "execution_count": null,
      "outputs": [
        {
          "output_type": "stream",
          "name": "stdout",
          "text": [
            "i y a m e s o n s u n g "
          ]
        }
      ]
    },
    {
      "cell_type": "code",
      "source": [
        "for x in msg:\n",
        "  if x.isalpha():\n",
        "    print(x, end='')"
      ],
      "metadata": {
        "colab": {
          "base_uri": "https://localhost:8080/"
        },
        "id": "OLAMgdUEHyPj",
        "outputId": "e1bac19f-bf7f-4e70-c3f1-4594c87c209c"
      },
      "execution_count": null,
      "outputs": [
        {
          "output_type": "stream",
          "name": "stdout",
          "text": [
            "HiMyNameIsWonsung"
          ]
        }
      ]
    },
    {
      "cell_type": "code",
      "source": [
        "tmp = 'AZ'\n",
        "for x in tmp :\n",
        "  print(ord(x))"
      ],
      "metadata": {
        "colab": {
          "base_uri": "https://localhost:8080/"
        },
        "id": "-FJt3zNiH3Ib",
        "outputId": "e5d97269-e25c-45fa-c9a8-ce28ccba51f5"
      },
      "execution_count": null,
      "outputs": [
        {
          "output_type": "stream",
          "name": "stdout",
          "text": [
            "65\n",
            "90\n"
          ]
        }
      ]
    },
    {
      "cell_type": "code",
      "source": [
        "tmp = 'az'\n",
        "for x in tmp :\n",
        "  print(ord(x))"
      ],
      "metadata": {
        "colab": {
          "base_uri": "https://localhost:8080/"
        },
        "id": "KX5a_jNcIGmW",
        "outputId": "1947608d-d4bb-42f0-edd9-7e64bf47c841"
      },
      "execution_count": null,
      "outputs": [
        {
          "output_type": "stream",
          "name": "stdout",
          "text": [
            "97\n",
            "122\n"
          ]
        }
      ]
    },
    {
      "cell_type": "code",
      "source": [
        "tmp = 65\n",
        "print(chr(tmp))"
      ],
      "metadata": {
        "colab": {
          "base_uri": "https://localhost:8080/"
        },
        "id": "0jmRRDBqIRio",
        "outputId": "7472f40d-8910-431c-aaaa-d6458caa95ba"
      },
      "execution_count": null,
      "outputs": [
        {
          "output_type": "stream",
          "name": "stdout",
          "text": [
            "A\n"
          ]
        }
      ]
    },
    {
      "cell_type": "code",
      "source": [
        "import random as r\n",
        "a = [1, 2, 3, 4, 5]\n",
        "a"
      ],
      "metadata": {
        "colab": {
          "base_uri": "https://localhost:8080/"
        },
        "id": "vnqi2qtiIWbS",
        "outputId": "234409fd-708b-4a8f-f132-7214b8d2c914"
      },
      "execution_count": null,
      "outputs": [
        {
          "output_type": "execute_result",
          "data": {
            "text/plain": [
              "[1, 2, 3, 4, 5]"
            ]
          },
          "metadata": {},
          "execution_count": 69
        }
      ]
    },
    {
      "cell_type": "code",
      "source": [
        "b = list(range(1,11))\n",
        "b"
      ],
      "metadata": {
        "colab": {
          "base_uri": "https://localhost:8080/"
        },
        "id": "vzSaWe9FI2PJ",
        "outputId": "a4168f2b-1dad-4b8e-e725-ff0d5fd6bd41"
      },
      "execution_count": null,
      "outputs": [
        {
          "output_type": "execute_result",
          "data": {
            "text/plain": [
              "[1, 2, 3, 4, 5, 6, 7, 8, 9, 10]"
            ]
          },
          "metadata": {},
          "execution_count": 70
        }
      ]
    },
    {
      "cell_type": "code",
      "source": [
        "c = a+b\n",
        "c"
      ],
      "metadata": {
        "colab": {
          "base_uri": "https://localhost:8080/"
        },
        "id": "uYgD0bpjJLHl",
        "outputId": "7699a5fd-7fe2-43db-f3d5-87b76d3dd3d3"
      },
      "execution_count": null,
      "outputs": [
        {
          "output_type": "execute_result",
          "data": {
            "text/plain": [
              "[1, 2, 3, 4, 5, 1, 2, 3, 4, 5, 6, 7, 8, 9, 10]"
            ]
          },
          "metadata": {},
          "execution_count": 71
        }
      ]
    },
    {
      "cell_type": "code",
      "source": [
        "a.append(6) # a 리스트의 맨 뒤에 추가\n",
        "a"
      ],
      "metadata": {
        "colab": {
          "base_uri": "https://localhost:8080/"
        },
        "id": "JFXJiOckJQE7",
        "outputId": "630df8a8-38f4-4ba7-8491-19f0a064afc2"
      },
      "execution_count": null,
      "outputs": [
        {
          "output_type": "execute_result",
          "data": {
            "text/plain": [
              "[1, 2, 3, 4, 5, 6]"
            ]
          },
          "metadata": {},
          "execution_count": 72
        }
      ]
    },
    {
      "cell_type": "code",
      "source": [
        "a.insert(3, 7) # insert(a, b) : a번째 인덱스에 b를 추가\n",
        "a\n"
      ],
      "metadata": {
        "colab": {
          "base_uri": "https://localhost:8080/"
        },
        "id": "vNpctEG8JVSz",
        "outputId": "20fb1568-d519-463b-fb81-d192644e980d"
      },
      "execution_count": null,
      "outputs": [
        {
          "output_type": "execute_result",
          "data": {
            "text/plain": [
              "[1, 2, 3, 7, 4, 5, 6]"
            ]
          },
          "metadata": {},
          "execution_count": 73
        }
      ]
    },
    {
      "cell_type": "code",
      "source": [
        "a.pop() # 맨 뒷 숫자를 제거한다.\n",
        "a"
      ],
      "metadata": {
        "colab": {
          "base_uri": "https://localhost:8080/"
        },
        "id": "h2HDDUyyJXFY",
        "outputId": "2cbd7241-3ac4-4795-c274-e532f8c93363"
      },
      "execution_count": null,
      "outputs": [
        {
          "output_type": "execute_result",
          "data": {
            "text/plain": [
              "[1, 2, 3, 7, 4, 5]"
            ]
          },
          "metadata": {},
          "execution_count": 74
        }
      ]
    },
    {
      "cell_type": "code",
      "source": [
        "a.pop(3) # 3번째 인덱스를 제거한다.\n",
        "a"
      ],
      "metadata": {
        "colab": {
          "base_uri": "https://localhost:8080/"
        },
        "id": "gD42thBDJlmv",
        "outputId": "28ac7fb4-1357-484b-898a-454dc1fb1615"
      },
      "execution_count": null,
      "outputs": [
        {
          "output_type": "execute_result",
          "data": {
            "text/plain": [
              "[1, 2, 3, 4, 5]"
            ]
          },
          "metadata": {},
          "execution_count": 75
        }
      ]
    },
    {
      "cell_type": "code",
      "source": [
        "a.remove(4) # 4를 제거\n",
        "a"
      ],
      "metadata": {
        "colab": {
          "base_uri": "https://localhost:8080/"
        },
        "id": "W0FcuG23Jtqj",
        "outputId": "8e5cce4d-5472-4e1c-bd10-d9c2cd86fb6c"
      },
      "execution_count": null,
      "outputs": [
        {
          "output_type": "execute_result",
          "data": {
            "text/plain": [
              "[1, 2, 3, 5]"
            ]
          },
          "metadata": {},
          "execution_count": 76
        }
      ]
    },
    {
      "cell_type": "code",
      "source": [
        "a = list(range(1,11))\n",
        "r.shuffle(a)\n",
        "print(a)"
      ],
      "metadata": {
        "colab": {
          "base_uri": "https://localhost:8080/"
        },
        "id": "a9MtXDSyKA4T",
        "outputId": "bea81541-25fb-4d85-f38a-6379380df9e8"
      },
      "execution_count": null,
      "outputs": [
        {
          "output_type": "stream",
          "name": "stdout",
          "text": [
            "[5, 8, 7, 4, 9, 10, 2, 6, 1, 3]\n"
          ]
        }
      ]
    },
    {
      "cell_type": "code",
      "source": [
        "a.sort() # 오름차순\n",
        "a"
      ],
      "metadata": {
        "colab": {
          "base_uri": "https://localhost:8080/"
        },
        "id": "bHRFuGNzKqib",
        "outputId": "9f67414f-7367-4255-db15-b3dbd030032d"
      },
      "execution_count": null,
      "outputs": [
        {
          "output_type": "execute_result",
          "data": {
            "text/plain": [
              "[1, 2, 3, 4, 5, 6, 7, 8, 9, 10]"
            ]
          },
          "metadata": {},
          "execution_count": 78
        }
      ]
    },
    {
      "cell_type": "code",
      "source": [
        "a.sort(reverse=True) # 내림차순\n",
        "a"
      ],
      "metadata": {
        "colab": {
          "base_uri": "https://localhost:8080/"
        },
        "id": "7_mtb54uKsiU",
        "outputId": "79b75557-5995-4b3e-f26c-48a73489e024"
      },
      "execution_count": null,
      "outputs": [
        {
          "output_type": "execute_result",
          "data": {
            "text/plain": [
              "[10, 9, 8, 7, 6, 5, 4, 3, 2, 1]"
            ]
          },
          "metadata": {},
          "execution_count": 80
        }
      ]
    },
    {
      "cell_type": "code",
      "source": [
        "a.clear()\n",
        "a"
      ],
      "metadata": {
        "colab": {
          "base_uri": "https://localhost:8080/"
        },
        "id": "_pF45RoZKwjZ",
        "outputId": "452faeee-bbc9-4435-deaf-b6e86bf4177e"
      },
      "execution_count": null,
      "outputs": [
        {
          "output_type": "execute_result",
          "data": {
            "text/plain": [
              "[]"
            ]
          },
          "metadata": {},
          "execution_count": 81
        }
      ]
    },
    {
      "cell_type": "code",
      "source": [
        "a = [23, 12, 36, 53, 19]\n",
        "for x in enumerate(a):    # idx와 value를 tuple 형태로 가져옴\n",
        "  print(x)"
      ],
      "metadata": {
        "colab": {
          "base_uri": "https://localhost:8080/"
        },
        "id": "dwY31RSiK4Ok",
        "outputId": "daf1dda9-c598-4dd2-f0a5-7a5af368c0fa"
      },
      "execution_count": null,
      "outputs": [
        {
          "output_type": "stream",
          "name": "stdout",
          "text": [
            "(0, 23)\n",
            "(1, 12)\n",
            "(2, 36)\n",
            "(3, 53)\n",
            "(4, 19)\n"
          ]
        }
      ]
    },
    {
      "cell_type": "code",
      "source": [
        "for x in enumerate(a):\n",
        "  print(x[0], x[1])\n",
        "  "
      ],
      "metadata": {
        "colab": {
          "base_uri": "https://localhost:8080/"
        },
        "id": "UQOzKjzsLEnd",
        "outputId": "d452881c-e747-4317-b2b6-4f6f1d9b3619"
      },
      "execution_count": null,
      "outputs": [
        {
          "output_type": "stream",
          "name": "stdout",
          "text": [
            "0 23\n",
            "1 12\n",
            "2 36\n",
            "3 53\n",
            "4 19\n"
          ]
        }
      ]
    },
    {
      "cell_type": "code",
      "source": [
        "for idx, value in enumerate(a):\n",
        "  print('idx : {} , value : {} '.format(idx, value))\n",
        "  "
      ],
      "metadata": {
        "colab": {
          "base_uri": "https://localhost:8080/"
        },
        "id": "ylk3gIclLeVk",
        "outputId": "53fb57fe-970c-49ee-878c-d0231aad037c"
      },
      "execution_count": null,
      "outputs": [
        {
          "output_type": "stream",
          "name": "stdout",
          "text": [
            "idx : 0 , value : 23 \n",
            "idx : 1 , value : 12 \n",
            "idx : 2 , value : 36 \n",
            "idx : 3 , value : 53 \n",
            "idx : 4 , value : 19 \n"
          ]
        }
      ]
    },
    {
      "cell_type": "code",
      "source": [
        "if all(60>x for x in a) :\n",
        "  print('All true')\n",
        "\n",
        "if all(50>x for x in a) :\n",
        "  print('All true')\n",
        "else :\n",
        "  print('Not all true')"
      ],
      "metadata": {
        "colab": {
          "base_uri": "https://localhost:8080/"
        },
        "id": "jhHG673pLnNM",
        "outputId": "1446c814-6bd9-4f6a-d559-b8af92c896eb"
      },
      "execution_count": null,
      "outputs": [
        {
          "output_type": "stream",
          "name": "stdout",
          "text": [
            "All true\n",
            "Not all true\n"
          ]
        }
      ]
    },
    {
      "cell_type": "code",
      "source": [
        "if any(15>x for x in a):\n",
        "  print('yes')\n",
        "\n",
        "else :\n",
        "  print('no')"
      ],
      "metadata": {
        "colab": {
          "base_uri": "https://localhost:8080/"
        },
        "id": "dpQWra-OL7GA",
        "outputId": "f1f07166-0f8a-464f-db19-a7443051a70e"
      },
      "execution_count": null,
      "outputs": [
        {
          "output_type": "stream",
          "name": "stdout",
          "text": [
            "yes\n"
          ]
        }
      ]
    },
    {
      "cell_type": "code",
      "source": [
        "if any(11>x for x in a):\n",
        "  print('yes')\n",
        "\n",
        "else :\n",
        "  print('no')"
      ],
      "metadata": {
        "colab": {
          "base_uri": "https://localhost:8080/"
        },
        "id": "WyP3itvVMYxg",
        "outputId": "7ea1cd46-5af1-4aa3-87a9-46d22be271ed"
      },
      "execution_count": null,
      "outputs": [
        {
          "output_type": "stream",
          "name": "stdout",
          "text": [
            "no\n"
          ]
        }
      ]
    },
    {
      "cell_type": "code",
      "source": [
        "a = [0]*3\n",
        "print(a)"
      ],
      "metadata": {
        "colab": {
          "base_uri": "https://localhost:8080/"
        },
        "id": "okXXniZjMg_H",
        "outputId": "ba866e6a-a91d-4c90-da15-d7010a4bb18c"
      },
      "execution_count": null,
      "outputs": [
        {
          "output_type": "stream",
          "name": "stdout",
          "text": [
            "[0, 0, 0]\n"
          ]
        }
      ]
    },
    {
      "cell_type": "code",
      "source": [
        "a = [[0] * 3 for _ in range(3)]\n",
        "a"
      ],
      "metadata": {
        "colab": {
          "base_uri": "https://localhost:8080/"
        },
        "id": "SuVfzMohMon1",
        "outputId": "361da145-78e3-440e-a8d8-247772d6095b"
      },
      "execution_count": null,
      "outputs": [
        {
          "output_type": "execute_result",
          "data": {
            "text/plain": [
              "[[0, 0, 0], [0, 0, 0], [0, 0, 0]]"
            ]
          },
          "metadata": {},
          "execution_count": 98
        }
      ]
    },
    {
      "cell_type": "code",
      "source": [
        "a[0][1] = 1\n",
        "a[1][2] = 2\n",
        "a[2][0] = 3\n",
        "a"
      ],
      "metadata": {
        "colab": {
          "base_uri": "https://localhost:8080/"
        },
        "id": "x9e72QvuMw3P",
        "outputId": "e813c7a6-a70c-4669-eb8b-93083dad3661"
      },
      "execution_count": null,
      "outputs": [
        {
          "output_type": "execute_result",
          "data": {
            "text/plain": [
              "[[0, 1, 0], [0, 0, 2], [3, 0, 0]]"
            ]
          },
          "metadata": {},
          "execution_count": 100
        }
      ]
    },
    {
      "cell_type": "code",
      "source": [
        "for x in a :\n",
        "  print(x)"
      ],
      "metadata": {
        "colab": {
          "base_uri": "https://localhost:8080/"
        },
        "id": "3ALfeBrTNNaW",
        "outputId": "618a45cf-12ee-4e22-d43f-6da69576eb25"
      },
      "execution_count": null,
      "outputs": [
        {
          "output_type": "stream",
          "name": "stdout",
          "text": [
            "[0, 1, 0]\n",
            "[0, 0, 2]\n",
            "[3, 0, 0]\n"
          ]
        }
      ]
    },
    {
      "cell_type": "code",
      "source": [
        "for x in a :\n",
        "  for y in x :\n",
        "    print(y, end=' ')\n",
        "  print()"
      ],
      "metadata": {
        "colab": {
          "base_uri": "https://localhost:8080/"
        },
        "id": "fmCQ9g35NbuK",
        "outputId": "e45fe89f-8d19-4d51-e924-35ce19a0eb04"
      },
      "execution_count": null,
      "outputs": [
        {
          "output_type": "stream",
          "name": "stdout",
          "text": [
            "0 1 0 \n",
            "0 0 2 \n",
            "3 0 0 \n"
          ]
        }
      ]
    },
    {
      "cell_type": "code",
      "source": [
        "# 함수\n",
        "\n",
        "def add(a, b) : \n",
        "  return a+b\n",
        "\n",
        "\n",
        "y = add(1, 2)\n",
        "y"
      ],
      "metadata": {
        "colab": {
          "base_uri": "https://localhost:8080/"
        },
        "id": "13bIFGzsNiRu",
        "outputId": "4c9e6349-a3b8-4d43-d907-b9723a6a6083"
      },
      "execution_count": null,
      "outputs": [
        {
          "output_type": "execute_result",
          "data": {
            "text/plain": [
              "3"
            ]
          },
          "metadata": {},
          "execution_count": 103
        }
      ]
    },
    {
      "cell_type": "code",
      "source": [
        "\n",
        "\n",
        "def isPrime(x):\n",
        "  for i in range(2,x):\n",
        "    if x%i==0:\n",
        "      return False\n",
        "  return True"
      ],
      "metadata": {
        "id": "EMt2ko_fN1G8"
      },
      "execution_count": null,
      "outputs": []
    },
    {
      "cell_type": "code",
      "source": [
        "A = isPrime(13)\n",
        "A"
      ],
      "metadata": {
        "colab": {
          "base_uri": "https://localhost:8080/"
        },
        "id": "8PUw633fPWfj",
        "outputId": "54cb05e7-1837-434a-bb52-4f8f9382cc63"
      },
      "execution_count": null,
      "outputs": [
        {
          "output_type": "execute_result",
          "data": {
            "text/plain": [
              "True"
            ]
          },
          "metadata": {},
          "execution_count": 105
        }
      ]
    },
    {
      "cell_type": "code",
      "source": [
        "a = [1, 2, 3, 4, 5]\n",
        "for x in a :\n",
        "  if (isPrime(x) == True) and (x != 1) :\n",
        "    print('{}는 소수입니다'.format(x))"
      ],
      "metadata": {
        "colab": {
          "base_uri": "https://localhost:8080/"
        },
        "id": "Hy4IyKpwPZBu",
        "outputId": "67137535-3e50-486a-8818-f6bd5369195d"
      },
      "execution_count": null,
      "outputs": [
        {
          "output_type": "stream",
          "name": "stdout",
          "text": [
            "2는 소수입니다\n",
            "3는 소수입니다\n",
            "5는 소수입니다\n"
          ]
        }
      ]
    },
    {
      "cell_type": "code",
      "source": [
        "# lambda \n",
        "def plus_one(x):\n",
        "  return x+1\n",
        "\n",
        "y = plus_one(1)"
      ],
      "metadata": {
        "id": "2QeAipmEP0J1"
      },
      "execution_count": null,
      "outputs": []
    },
    {
      "cell_type": "code",
      "source": [
        "plus_two = lambda x : x+2 "
      ],
      "metadata": {
        "id": "6DKIQMidQNgk"
      },
      "execution_count": null,
      "outputs": []
    },
    {
      "cell_type": "code",
      "source": [
        "print(plus_two(1))"
      ],
      "metadata": {
        "colab": {
          "base_uri": "https://localhost:8080/"
        },
        "id": "1PG5GxUIQOFp",
        "outputId": "1103e807-8c5f-4564-ccfe-8433c6ec8270"
      },
      "execution_count": null,
      "outputs": [
        {
          "output_type": "stream",
          "name": "stdout",
          "text": [
            "3\n"
          ]
        }
      ]
    },
    {
      "cell_type": "code",
      "source": [
        "a = [1, 2, 3]\n",
        "print(list(map(plus_one, a)))"
      ],
      "metadata": {
        "colab": {
          "base_uri": "https://localhost:8080/"
        },
        "id": "6AVV9SEHQb5U",
        "outputId": "9844f9f4-e987-4586-a8fc-94da01ae3390"
      },
      "execution_count": null,
      "outputs": [
        {
          "output_type": "stream",
          "name": "stdout",
          "text": [
            "[2, 3, 4]\n"
          ]
        }
      ]
    },
    {
      "cell_type": "markdown",
      "source": [
        "#### K번째 약수 구하기"
      ],
      "metadata": {
        "id": "jMnmnn_FRzde"
      }
    },
    {
      "cell_type": "code",
      "source": [
        "cnt = 0 \n",
        "n, k = map(int, input().split())\n",
        "for i in range(1, n+1):\n",
        "  if n%i == 0 :\n",
        "    cnt += 1\n",
        "  \n",
        "  if cnt == k :\n",
        "    print(i)\n",
        "    break\n",
        "\n",
        "else : \n",
        "  print(-1)"
      ],
      "metadata": {
        "colab": {
          "base_uri": "https://localhost:8080/"
        },
        "id": "3wl_IGL_Qk_x",
        "outputId": "ae3a81b7-0541-49e9-8980-2ecbbd4e9376"
      },
      "execution_count": null,
      "outputs": [
        {
          "output_type": "stream",
          "name": "stdout",
          "text": [
            "6 5\n",
            "-1\n"
          ]
        }
      ]
    },
    {
      "cell_type": "markdown",
      "source": [
        "#### K번째 수\n",
        "\n",
        "* N개의 숫자로 이루어진 숫자열이 주어지면 해당 숫자열 중에서 s번째부터 e번째까지의 수를 오름 차순 정렬했을 때 K번째로 나타나는 숫자를 출력\n",
        "\n"
      ],
      "metadata": {
        "id": "Gp7fPjB9Tb2J"
      }
    },
    {
      "cell_type": "code",
      "source": [
        "n, s, e, k = 6, 2, 5, 3\n",
        "a = [5, 2, 7, 3, 8, 9]\n",
        "\n",
        "a = a[s-1:e]\n",
        "a.sort()\n",
        "a[k-1]"
      ],
      "metadata": {
        "colab": {
          "base_uri": "https://localhost:8080/"
        },
        "id": "VhYC-EH0RP6E",
        "outputId": "307a41d3-3147-402c-e2e8-f4dc256abf95"
      },
      "execution_count": null,
      "outputs": [
        {
          "output_type": "execute_result",
          "data": {
            "text/plain": [
              "7"
            ]
          },
          "metadata": {},
          "execution_count": 136
        }
      ]
    },
    {
      "cell_type": "code",
      "source": [
        "n,s,e,k = 15, 3, 10, 3\n",
        "b = [4, 15, 8, 16, 6, 6, 17, 3, 10, 11, 18, 7, 14, 7, 15]\n",
        "b = b[s-1:e]\n",
        "b.sort()\n",
        "b[k-1]"
      ],
      "metadata": {
        "colab": {
          "base_uri": "https://localhost:8080/"
        },
        "id": "0zm08Oh_VEMp",
        "outputId": "34c4ed9d-da14-454d-f50c-c704c59dc2e5"
      },
      "execution_count": null,
      "outputs": [
        {
          "output_type": "execute_result",
          "data": {
            "text/plain": [
              "6"
            ]
          },
          "metadata": {},
          "execution_count": 137
        }
      ]
    },
    {
      "cell_type": "markdown",
      "source": [
        "#### K번째 큰 수\n",
        "* 1~100 사이의 자연수가 적힌 N장의 카드. 중복된 카드 있을 수 있음. 3장을 뽑아 sum을 기록. 기록한 값 중 K번째로 큰 수 출력"
      ],
      "metadata": {
        "id": "JZQlv_l4WPZU"
      }
    },
    {
      "cell_type": "code",
      "source": [
        "k = int(input())\n",
        "N = [12, 14, 24, 24, 23, 14, 32, 32 ,42, 15, 17, 26, 87, 98, 29, 31, 33, 32]\n",
        "n = len(N)\n",
        "res = set()\n",
        "for i in range(n):\n",
        "  for j in range(i+1,n):\n",
        "    for m in range(j+1,n):\n",
        "      res.add(N[i]+N[j]+N[m])\n",
        "\n",
        "res = list(res)\n",
        "res.sort(reverse=True)\n",
        "print(res[k-1])\n"
      ],
      "metadata": {
        "colab": {
          "base_uri": "https://localhost:8080/"
        },
        "id": "dvGOOJOCVPBF",
        "outputId": "6fcfc461-2d00-4b12-f16d-bba5fce615da"
      },
      "execution_count": null,
      "outputs": [
        {
          "output_type": "stream",
          "name": "stdout",
          "text": [
            "5\n",
            "214\n"
          ]
        }
      ]
    },
    {
      "cell_type": "markdown",
      "source": [
        "#### 최솟값 구하기"
      ],
      "metadata": {
        "id": "nU0EU7vk4Sl7"
      }
    },
    {
      "cell_type": "code",
      "source": [
        "arr = [5, 3, 7, 9, 2, 5, 2, 6]\n",
        "arrMin = float('inf')\n",
        "for i in range(len(arr)) :\n",
        "  if arr[i] < arrMin:\n",
        "    arrMin = arr[i]\n",
        "\n",
        "arrMin"
      ],
      "metadata": {
        "colab": {
          "base_uri": "https://localhost:8080/"
        },
        "id": "l-YtGVVU38fW",
        "outputId": "309f1492-8b6f-4561-b7ee-57a36cf6aa18"
      },
      "execution_count": null,
      "outputs": [
        {
          "output_type": "execute_result",
          "data": {
            "text/plain": [
              "2"
            ]
          },
          "metadata": {},
          "execution_count": 145
        }
      ]
    },
    {
      "cell_type": "markdown",
      "source": [
        "#### 대푯값\n",
        "* N명의 학생에게 수학성적이 주어짐\n",
        "* N명의 학생들의 평균(소수 첫째자리 반올림) 구하기\n",
        "* N명의 학생 중 평균에 가장 가까운 학생은 몇 번째 학생인지 출력\n",
        "* 답이 2개일 경우 성적이 높은 학생의 번호를 출력\n",
        "* 답이 되는 점수가 여러 개일 경우 번호가 빠른 학생의 번호를 답으로 출력"
      ],
      "metadata": {
        "id": "U1dMLMs75U_n"
      }
    },
    {
      "cell_type": "code",
      "source": [
        "n = 10\n",
        "scores = [65, 73, 66, 87, 92, 67, 55, 79, 75, 80]\n",
        "score_sum = sum(scores)\n",
        "score_mean = round(score_sum/n, 1)\n",
        "min = 2222222222\n",
        "for idx, x in enumerate(scores):\n",
        "  tmp = abs(x - score_mean)\n",
        "  if tmp < min:\n",
        "    min = tmp\n",
        "    score = x \n",
        "    num = idx + 1\n",
        "  elif tmp == min :\n",
        "    if x > score :\n",
        "      score = x\n",
        "      num = idx + 1\n",
        "print(score_mean, num)"
      ],
      "metadata": {
        "colab": {
          "base_uri": "https://localhost:8080/"
        },
        "id": "CNQdIqCS40w9",
        "outputId": "a68a7153-6e26-4b1c-8576-d57ea8a347d3"
      },
      "execution_count": null,
      "outputs": [
        {
          "output_type": "stream",
          "name": "stdout",
          "text": [
            "73.9 2\n"
          ]
        }
      ]
    },
    {
      "cell_type": "markdown",
      "source": [
        "#### 정다면체\n",
        "* n면체와 m면체의 두 개의 주사위를 던져서 나올 수 있는 눈의 합 중 가장 확률이 높은 숫자를 출력하는 프로그램을 출력\n",
        "* 정답이 여러 개일 경우 오름차순으로 출력"
      ],
      "metadata": {
        "id": "p2sZaCH_bm1x"
      }
    },
    {
      "cell_type": "code",
      "source": [
        "n, m = 4,6\n"
      ],
      "metadata": {
        "id": "3D-MH9FY6ToP"
      },
      "execution_count": null,
      "outputs": []
    },
    {
      "cell_type": "code",
      "source": [
        "cnt = [0] * (n+m+1)\n",
        "cnt\n",
        "max = 0\n",
        "for i in range(1,n+1):\n",
        "  for j in range(1,m+1):\n",
        "    cnt[i+j] += 1\n",
        "\n",
        "for i in range(n+m+1):\n",
        "  if cnt[i] > max:\n",
        "    max = cnt[i]\n",
        "\n",
        "for i in range(n+m+1):\n",
        "  if cnt[i] == max:\n",
        "    print(i, end=' ')"
      ],
      "metadata": {
        "colab": {
          "base_uri": "https://localhost:8080/"
        },
        "id": "0-fcY7Rnb1Of",
        "outputId": "3dcba1fc-65f1-4906-8d58-c9cbcfbd64b2"
      },
      "execution_count": null,
      "outputs": [
        {
          "output_type": "stream",
          "name": "stdout",
          "text": [
            "5 6 7 "
          ]
        }
      ]
    },
    {
      "cell_type": "markdown",
      "source": [
        "#### 자릿수의 합\n",
        "* N 개의 자연수가 입력되면 각 자연수의 자릿수의 합을 구하고, 그 합이 최대인 자연수를 출력하는 프로그램\n",
        "* def digit_sum(x)"
      ],
      "metadata": {
        "id": "h9fjknxXdYvf"
      }
    },
    {
      "cell_type": "code",
      "source": [
        "n = [125, 15232, 97]\n",
        "\n",
        "max = 0\n",
        "def digit_sum(x):\n",
        "  a = 0 \n",
        "  while x > 0 :\n",
        "    a += x%10\n",
        "    x = x//10\n",
        "  return a\n",
        "\n",
        "for x in n :\n",
        "  y = digit_sum(x)\n",
        "  if max < y :\n",
        "    max = y\n",
        "    target = x\n",
        "\n",
        "print(target)\n",
        "\n",
        "\n",
        "# 다른 방법\n",
        "\n",
        "def digit_sum2(x) :\n",
        "  b = 0\n",
        "  for i in str(x):\n",
        "    b += int(i)\n",
        "  return b\n",
        "\n",
        "for x in n :\n",
        "  tot = digit_sum2(x)\n",
        "  if tot > max:\n",
        "    target_2 = x\n",
        "print(target_2)"
      ],
      "metadata": {
        "colab": {
          "base_uri": "https://localhost:8080/"
        },
        "id": "qsHxXIH6cA7a",
        "outputId": "d2550d9c-b7eb-411c-a2e0-92f00780382e"
      },
      "execution_count": null,
      "outputs": [
        {
          "output_type": "stream",
          "name": "stdout",
          "text": [
            "97\n",
            "97\n"
          ]
        }
      ]
    },
    {
      "cell_type": "markdown",
      "source": [
        "#### 에라토스테네스의 체\n",
        "\n",
        "* 자연수 N이 입력되면 1부터 N까지의 소수의 개수를 출력하는 프로그램을 작성\n"
      ],
      "metadata": {
        "id": "T-8qJwUfglrL"
      }
    },
    {
      "cell_type": "code",
      "source": [
        "n = 20\n"
      ],
      "metadata": {
        "id": "RInD3slCehJD"
      },
      "execution_count": null,
      "outputs": []
    },
    {
      "cell_type": "code",
      "source": [
        "ch = [0] * (n+1)\n",
        "cnt = 0 \n",
        "for i in range(2, n+1):\n",
        "  if ch[i] == 0:\n",
        "    cnt += 1\n",
        "    for j in range(1, n+1, i):\n",
        "      ch[j] = 1\n",
        "print(cnt)"
      ],
      "metadata": {
        "colab": {
          "base_uri": "https://localhost:8080/"
        },
        "id": "PHxSfPktlME4",
        "outputId": "71d795e8-ef94-497e-c6de-5f210d15e2c4"
      },
      "execution_count": null,
      "outputs": [
        {
          "output_type": "stream",
          "name": "stdout",
          "text": [
            "10\n"
          ]
        }
      ]
    },
    {
      "cell_type": "code",
      "source": [
        "\n"
      ],
      "metadata": {
        "id": "ohowv9PAlO4q"
      },
      "execution_count": null,
      "outputs": []
    }
  ]
}