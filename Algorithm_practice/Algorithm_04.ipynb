{
  "nbformat": 4,
  "nbformat_minor": 0,
  "metadata": {
    "colab": {
      "name": "Algorithm_04.ipynb",
      "provenance": []
    },
    "kernelspec": {
      "name": "python3",
      "display_name": "Python 3"
    },
    "language_info": {
      "name": "python"
    }
  },
  "cells": [
    {
      "cell_type": "code",
      "execution_count": 1,
      "metadata": {
        "id": "9cAdVFUldA2f"
      },
      "outputs": [],
      "source": [
        ""
      ]
    },
    {
      "cell_type": "markdown",
      "source": [
        "#### 퀵 정렬"
      ],
      "metadata": {
        "id": "rIjzz5D6dN30"
      }
    },
    {
      "cell_type": "code",
      "source": [
        "def quicksort(s, low, high):\n",
        "  if high > low :\n",
        "    pivotpoint = partition(s, low, high)\n",
        "    quicksort(s, low, pivotpoint-1)\n",
        "    quicksort(s, pivotpoint+1, high)\n",
        "\n",
        "def partition(s, low, high) :\n",
        "  pivotitem = s[low]\n",
        "  j = low\n",
        "  for i in range(low+1, high+1):\n",
        "    if s[i] < pivotitem :\n",
        "      j += 1\n",
        "      s[i], s[j] = s[j], s[i]\n",
        "  pivotpoint = j\n",
        "  s[low], s[pivotpoint] = s[pivotpoint], s[low]\n",
        "  return pivotpoint\n",
        "\n"
      ],
      "metadata": {
        "id": "abG7SoeFdV3C"
      },
      "execution_count": 4,
      "outputs": []
    },
    {
      "cell_type": "code",
      "source": [
        "s = [15, 22, 13, 27, 12, 10, 20, 25]\n",
        "print('before : ', s)\n",
        "quicksort(s, 0, len(s)-1)\n",
        "print('after :', s)"
      ],
      "metadata": {
        "colab": {
          "base_uri": "https://localhost:8080/"
        },
        "id": "11K8WvGBd9qb",
        "outputId": "86e9316a-0fbc-420f-e4a2-918dbff846b9"
      },
      "execution_count": 13,
      "outputs": [
        {
          "output_type": "stream",
          "name": "stdout",
          "text": [
            "before :  [15, 22, 13, 27, 12, 10, 20, 25]\n",
            "after : [10, 12, 13, 15, 20, 22, 25, 27]\n"
          ]
        }
      ]
    },
    {
      "cell_type": "code",
      "source": [
        "def partition2(s,low,high):\n",
        "  pivotitem = s[low]\n",
        "  i = low + 1\n",
        "  j = high\n",
        "  while i <=j :\n",
        "    while s[i] < pivotitem:\n",
        "      i += 1\n",
        "    while s[j] > pivotitem:\n",
        "      j -= 1\n",
        "    if i < j :\n",
        "      s[i], s[j] = s[j], s[i]\n",
        "  pivotpoint = j\n",
        "  s[low], s[pivotpoint] = s[pivotpoint], s[low]\n",
        "  return pivotpoint\n",
        "\n",
        "def quicksort2(s, low, high):\n",
        "  if high > low :\n",
        "    pivotpoint = partition2(s, low, high)\n",
        "    quicksort2(s, low, pivotpoint-1)\n",
        "    quicksort2(s, pivotpoint+1, high)\n"
      ],
      "metadata": {
        "id": "taIhDMxaeFkF"
      },
      "execution_count": 8,
      "outputs": []
    },
    {
      "cell_type": "code",
      "source": [
        "s = [15, 22, 13, 27, 12, 10, 20, 25]\n",
        "\n",
        "\n",
        "print('before : ', s)\n",
        "partition2(s, 0, len(s)-1)\n",
        "print('after :', s)"
      ],
      "metadata": {
        "colab": {
          "base_uri": "https://localhost:8080/"
        },
        "id": "at35mFWSezIA",
        "outputId": "3cad6263-885e-46cd-81e1-ad6995c69e24"
      },
      "execution_count": 16,
      "outputs": [
        {
          "output_type": "stream",
          "name": "stdout",
          "text": [
            "before :  [15, 22, 13, 27, 12, 10, 20, 25]\n",
            "after : [12, 10, 13, 15, 27, 22, 20, 25]\n"
          ]
        }
      ]
    },
    {
      "cell_type": "code",
      "source": [
        ""
      ],
      "metadata": {
        "id": "dVrip2ANj6eO"
      },
      "execution_count": null,
      "outputs": []
    }
  ]
}