{
  "nbformat": 4,
  "nbformat_minor": 0,
  "metadata": {
    "colab": {
      "name": "Algorithm_02.ipynb",
      "provenance": []
    },
    "kernelspec": {
      "name": "python3",
      "display_name": "Python 3"
    },
    "language_info": {
      "name": "python"
    }
  },
  "cells": [
    {
      "cell_type": "markdown",
      "source": [
        "## 이분 정렬"
      ],
      "metadata": {
        "id": "_XcaWXb0kTmd"
      }
    },
    {
      "cell_type": "code",
      "source": [
        "def location(s, low, high) :\n",
        "  if low > high:\n",
        "    return 0\n",
        "  else :\n",
        "    mid = (low + high) // 2\n",
        "    if x == s[mid]:\n",
        "      return mid \n",
        "    elif x < s[mid]:\n",
        "      return location(s, low, mid-1)\n",
        "    else :\n",
        "      return location(s, mid+1, high)\n",
        "\n"
      ],
      "metadata": {
        "id": "d7-oIAVmjbRx"
      },
      "execution_count": 3,
      "outputs": []
    },
    {
      "cell_type": "code",
      "source": [
        "s = [-1, 10, 12, 13, 14, 18, 20, 25, 27, 30, 35, 40, 45] \n",
        "x = 18\n",
        "loc = location(s,1,len(s))\n",
        "print('s = ', s)\n",
        "print('x = ', x)\n",
        "print('loc = ', loc)"
      ],
      "metadata": {
        "colab": {
          "base_uri": "https://localhost:8080/"
        },
        "id": "6tp3G-XUj1bx",
        "outputId": "726e9fde-ebf7-4f37-c71b-c78bdaed6744"
      },
      "execution_count": 4,
      "outputs": [
        {
          "output_type": "stream",
          "name": "stdout",
          "text": [
            "s =  [-1, 10, 12, 13, 14, 18, 20, 25, 27, 30, 35, 40, 45]\n",
            "x =  18\n",
            "loc =  5\n"
          ]
        }
      ]
    },
    {
      "cell_type": "markdown",
      "source": [
        "## 합병 정렬(분할정복)"
      ],
      "metadata": {
        "id": "XAlf0FXAkV9y"
      }
    },
    {
      "cell_type": "code",
      "source": [
        "def merge(u,v):\n",
        "  s = []\n",
        "  i = j = 0\n",
        "  while (i < len(u) and j < len(v)) :\n",
        "    if u[i] < v[j]:\n",
        "      s.append(u[i])\n",
        "      i += 1\n",
        "    else :\n",
        "      s.append(v[j])\n",
        "      j += 1\n",
        "  if i < len(u):\n",
        "    s += u[i : len(u)]\n",
        "  else :\n",
        "    s += v[j : len(v)]\n",
        "  return s \n",
        "\n"
      ],
      "metadata": {
        "id": "JVaUSon8kNIw"
      },
      "execution_count": 16,
      "outputs": []
    },
    {
      "cell_type": "code",
      "source": [
        "\n",
        "\n",
        "def mergesort (s):\n",
        "  n = len(s)\n",
        "  if n <= 1 :\n",
        "    return s\n",
        "  else : \n",
        "    mid = n // 2\n",
        "    u = mergesort(s[0:mid])\n",
        "    v = mergesort(s[mid:n])\n",
        "    print('u = ', u, end=' ')\n",
        "    print('v = ', v)\n",
        "    return merge(u, v)"
      ],
      "metadata": {
        "id": "q-lLhPwTosQ-"
      },
      "execution_count": 21,
      "outputs": []
    },
    {
      "cell_type": "code",
      "source": [
        "s = [27, 10, 12, 20, 25, 13, 15, 22]\n",
        "print('before : ', s)\n",
        "X = mergesort(s)\n",
        "print('after : ', X)"
      ],
      "metadata": {
        "colab": {
          "base_uri": "https://localhost:8080/"
        },
        "id": "7f-t23iDl2Fh",
        "outputId": "89cd3680-4735-47ad-9483-754f7014db0a"
      },
      "execution_count": 22,
      "outputs": [
        {
          "output_type": "stream",
          "name": "stdout",
          "text": [
            "before :  [27, 10, 12, 20, 25, 13, 15, 22]\n",
            "u =  [27] v =  [10]\n",
            "u =  [12] v =  [20]\n",
            "u =  [10, 27] v =  [12, 20]\n",
            "u =  [25] v =  [13]\n",
            "u =  [15] v =  [22]\n",
            "u =  [13, 25] v =  [15, 22]\n",
            "u =  [10, 12, 20, 27] v =  [13, 15, 22, 25]\n",
            "after :  [10, 12, 13, 15, 20, 22, 25, 27]\n"
          ]
        }
      ]
    },
    {
      "cell_type": "code",
      "source": [
        "def mergesort2 (s, low, high):\n",
        "  if low < high :\n",
        "    mid = (low + high) // 2\n",
        "    mergesort2(s, low, mid)\n",
        "    mergesort2(s, mid+1, high)\n",
        "    merge2(s, low, mid, high)\n",
        "\n",
        "def merge2(s, low, mid, high):\n",
        "  u = []\n",
        "  i = low\n",
        "  j = mid + 1\n",
        "  while (i <= mid and j <= high):\n",
        "    if s[i] < s[j]:\n",
        "      u.append(s[i])\n",
        "      i += 1\n",
        "    else :\n",
        "      u.append(s[j])\n",
        "      j += 1\n",
        "  if i <= mid :\n",
        "    u += s[i : mid + 1]\n",
        "  else :\n",
        "    u += s[j : high +1]\n",
        "  for k in range(low, high+1) :\n",
        "    s[k] = u[k-low]"
      ],
      "metadata": {
        "id": "-N_rdp_Corxs"
      },
      "execution_count": 25,
      "outputs": []
    },
    {
      "cell_type": "code",
      "source": [
        "s = [27, 10, 12, 20, 25, 13 ,15 , 22]\n",
        "print('before : ', s)\n",
        "mergesort2(s, 0, len(s)-1)\n",
        "print('after : ', s)"
      ],
      "metadata": {
        "colab": {
          "base_uri": "https://localhost:8080/"
        },
        "id": "R8nsvpkynomc",
        "outputId": "ef01f9ba-5bff-4196-b641-8e339899099e"
      },
      "execution_count": 26,
      "outputs": [
        {
          "output_type": "stream",
          "name": "stdout",
          "text": [
            "before :  [27, 10, 12, 20, 25, 13, 15, 22]\n",
            "after :  [10, 12, 13, 15, 20, 22, 25, 27]\n"
          ]
        }
      ]
    },
    {
      "cell_type": "code",
      "source": [
        ""
      ],
      "metadata": {
        "id": "PEUp7LgVrX4W"
      },
      "execution_count": null,
      "outputs": []
    }
  ]
}